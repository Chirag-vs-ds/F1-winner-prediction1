{
 "cells": [
  {
   "cell_type": "markdown",
   "id": "9d61ee37",
   "metadata": {},
   "source": [
    " Formula 1 Winner Prediction - Step 2: Data Preprocessing"
   ]
  },
  {
   "cell_type": "code",
   "execution_count": 1,
   "id": "7c6f4898",
   "metadata": {},
   "outputs": [],
   "source": [
    "import pandas as pd\n",
    "import numpy as np"
   ]
  },
  {
   "cell_type": "code",
   "execution_count": 9,
   "id": "9d993529",
   "metadata": {},
   "outputs": [],
   "source": [
    "drivers = pd.read_csv('../data/drivers.csv')\n",
    "constructors = pd.read_csv('../data/constructors.csv')\n",
    "circuits = pd.read_csv('../data/circuits.csv')\n",
    "races = pd.read_csv('../data/races.csv')\n",
    "results = pd.read_csv('../data/results.csv')\n",
    "qualifying = pd.read_csv('../data/qualifying.csv', low_memory=False)\n"
   ]
  },
  {
   "cell_type": "code",
   "execution_count": 10,
   "id": "d65887d3",
   "metadata": {},
   "outputs": [],
   "source": [
    "races['date'] = pd.to_datetime(races['date'])\n",
    "drivers['driver_name'] = drivers['forename'] + ' ' + drivers['surname']"
   ]
  },
  {
   "cell_type": "code",
   "execution_count": 11,
   "id": "02b26021",
   "metadata": {},
   "outputs": [],
   "source": [
    "df = results.merge(drivers, on='driverId', how='left')\n",
    "df = df.merge(constructors, on='constructorId', how='left')\n",
    "df = df.merge(races[['raceId', 'year', 'round', 'circuitId', 'date']], on='raceId', how='left')\n",
    "df = df.merge(circuits[['circuitId', 'name', 'location', 'country']], on='circuitId', how='left')"
   ]
  },
  {
   "cell_type": "code",
   "execution_count": 12,
   "id": "02b9f831",
   "metadata": {},
   "outputs": [],
   "source": [
    "df['is_winner'] = np.where(df['positionOrder'] == 1, 1, 0)\n",
    "qual_df = qualifying[['raceId', 'driverId', 'position']].rename(columns={'position': 'qualifying_position'})\n",
    "df = df.merge(qual_df, on=['raceId', 'driverId'], how='left')\n",
    "df['qualifying_position'] = df['qualifying_position'].fillna(20)\n",
    "df = df.sort_values('date')"
   ]
  },
  {
   "cell_type": "code",
   "execution_count": 13,
   "id": "8f938d0f",
   "metadata": {},
   "outputs": [],
   "source": [
    "df = df.rename(columns={'name_x': 'race_name', 'name_y': 'circuit_name', 'constructorRef': 'constructor_name'})\n",
    "df['circuit_driver_key'] = df['driverId'].astype(str) + '_' + df['circuitId'].astype(str)\n"
   ]
  },
  {
   "cell_type": "code",
   "execution_count": 14,
   "id": "b724f369",
   "metadata": {},
   "outputs": [],
   "source": [
    "df['past_wins_at_circuit'] = 0\n",
    "circuit_driver_wins = {}\n",
    "for idx, row in df.iterrows():\n",
    "    key = row['circuit_driver_key']\n",
    "    if key not in circuit_driver_wins:\n",
    "        circuit_driver_wins[key] = 0\n",
    "    df.at[idx, 'past_wins_at_circuit'] = circuit_driver_wins[key]\n",
    "    if row['is_winner'] == 1:\n",
    "        circuit_driver_wins[key] += 1\n"
   ]
  },
  {
   "cell_type": "code",
   "execution_count": 15,
   "id": "f05e2cf1",
   "metadata": {},
   "outputs": [],
   "source": [
    "# Add a unique key for each driver+circuit combination\n",
    "df['circuit_driver_key'] = df['driverId'].astype(str) + '_' + df['circuitId'].astype(str)\n",
    "\n",
    "# Create the past_wins_at_circuit column\n",
    "df['past_wins_at_circuit'] = 0\n",
    "circuit_driver_wins = {}\n",
    "\n",
    "for idx, row in df.iterrows():\n",
    "    key = row['circuit_driver_key']\n",
    "    if key not in circuit_driver_wins:\n",
    "        circuit_driver_wins[key] = 0\n",
    "    df.at[idx, 'past_wins_at_circuit'] = circuit_driver_wins[key]\n",
    "    if row['is_winner'] == 1:\n",
    "        circuit_driver_wins[key] += 1\n"
   ]
  },
  {
   "cell_type": "code",
   "execution_count": 16,
   "id": "4a5864fc",
   "metadata": {},
   "outputs": [
    {
     "name": "stdout",
     "output_type": "stream",
     "text": [
      " Data Preprocessing Complete.\n"
     ]
    }
   ],
   "source": [
    "final_df = df[[\n",
    "    'raceId', 'year', 'round', 'date',\n",
    "    'driverId', 'driver_name', 'constructorId', 'constructor_name',\n",
    "    'positionOrder', 'grid', 'qualifying_position', 'is_winner',\n",
    "    'circuitId', 'circuit_name', 'country', 'past_wins_at_circuit'\n",
    "]]\n",
    "final_df.to_csv(\"processed_f1_data.csv\", index=False)\n",
    "print(\" Data Preprocessing Complete.\")"
   ]
  }
 ],
 "metadata": {
  "kernelspec": {
   "display_name": "Python 3",
   "language": "python",
   "name": "python3"
  },
  "language_info": {
   "codemirror_mode": {
    "name": "ipython",
    "version": 3
   },
   "file_extension": ".py",
   "mimetype": "text/x-python",
   "name": "python",
   "nbconvert_exporter": "python",
   "pygments_lexer": "ipython3",
   "version": "3.13.5"
  }
 },
 "nbformat": 4,
 "nbformat_minor": 5
}
